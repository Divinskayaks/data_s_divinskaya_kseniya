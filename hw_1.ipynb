{
 "cells": [
  {
   "cell_type": "code",
   "execution_count": 42,
   "id": "4e9580fe",
   "metadata": {
    "scrolled": true
   },
   "outputs": [
    {
     "name": "stdout",
     "output_type": "stream",
     "text": [
      "[10, 9, 8, 7, 6, 5, 4, 3, 2, 1]\n",
      "10 четное\n",
      "9 нечетное\n",
      "8 четное\n",
      "7 нечетное\n",
      "6 четное\n",
      "5 нечетное\n",
      "4 четное\n",
      "3 нечетное\n",
      "2 четное\n",
      "1 нечетное\n"
     ]
    }
   ],
   "source": [
    "a = [1, 2, 3, 4, 5, 6, 7, 8, 9, 10]  \n",
    "a2 = []  \n",
    "\n",
    "for b in reversed(a):\n",
    "    a2.append(b)  \n",
    "print(a2)\n",
    "\n",
    "i=0\n",
    "while i<len(a2):\n",
    "   if a2[i]%2==0:\n",
    "      print(a2[i],'четное')\n",
    "      i=i+1\n",
    "   elif a2[i]%2!=0:\n",
    "      print(a2[i],'нечетное')\n",
    "      i=i+1\n"
   ]
  }
 ],
 "metadata": {
  "kernelspec": {
   "display_name": "Python 3 (ipykernel)",
   "language": "python",
   "name": "python3"
  },
  "language_info": {
   "codemirror_mode": {
    "name": "ipython",
    "version": 3
   },
   "file_extension": ".py",
   "mimetype": "text/x-python",
   "name": "python",
   "nbconvert_exporter": "python",
   "pygments_lexer": "ipython3",
   "version": "3.11.5"
  }
 },
 "nbformat": 4,
 "nbformat_minor": 5
}
