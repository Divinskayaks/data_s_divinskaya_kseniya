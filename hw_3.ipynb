{
 "cells": [
  {
   "cell_type": "markdown",
   "id": "44f4f8e5",
   "metadata": {},
   "source": [
    "# Простой генератор данных для домашнего задания\n",
    "Можете побаловаться в генерации и настройках"
   ]
  },
  {
   "cell_type": "code",
   "execution_count": 12,
   "id": "a07b6a13",
   "metadata": {},
   "outputs": [
    {
     "data": {
      "text/html": [
       "<div>\n",
       "<style scoped>\n",
       "    .dataframe tbody tr th:only-of-type {\n",
       "        vertical-align: middle;\n",
       "    }\n",
       "\n",
       "    .dataframe tbody tr th {\n",
       "        vertical-align: top;\n",
       "    }\n",
       "\n",
       "    .dataframe thead th {\n",
       "        text-align: right;\n",
       "    }\n",
       "</style>\n",
       "<table border=\"1\" class=\"dataframe\">\n",
       "  <thead>\n",
       "    <tr style=\"text-align: right;\">\n",
       "      <th></th>\n",
       "      <th>date</th>\n",
       "      <th>group</th>\n",
       "      <th>conversion</th>\n",
       "      <th>LTV</th>\n",
       "    </tr>\n",
       "  </thead>\n",
       "  <tbody>\n",
       "    <tr>\n",
       "      <th>0</th>\n",
       "      <td>2024-02-01</td>\n",
       "      <td>0</td>\n",
       "      <td>0</td>\n",
       "      <td>79.791774</td>\n",
       "    </tr>\n",
       "    <tr>\n",
       "      <th>1</th>\n",
       "      <td>2024-02-01</td>\n",
       "      <td>0</td>\n",
       "      <td>0</td>\n",
       "      <td>100.089491</td>\n",
       "    </tr>\n",
       "    <tr>\n",
       "      <th>2</th>\n",
       "      <td>2024-02-01</td>\n",
       "      <td>1</td>\n",
       "      <td>1</td>\n",
       "      <td>104.696552</td>\n",
       "    </tr>\n",
       "    <tr>\n",
       "      <th>3</th>\n",
       "      <td>2024-02-01</td>\n",
       "      <td>0</td>\n",
       "      <td>0</td>\n",
       "      <td>82.928757</td>\n",
       "    </tr>\n",
       "    <tr>\n",
       "      <th>4</th>\n",
       "      <td>2024-02-01</td>\n",
       "      <td>0</td>\n",
       "      <td>0</td>\n",
       "      <td>130.937933</td>\n",
       "    </tr>\n",
       "  </tbody>\n",
       "</table>\n",
       "</div>"
      ],
      "text/plain": [
       "        date  group  conversion         LTV\n",
       "0 2024-02-01      0           0   79.791774\n",
       "1 2024-02-01      0           0  100.089491\n",
       "2 2024-02-01      1           1  104.696552\n",
       "3 2024-02-01      0           0   82.928757\n",
       "4 2024-02-01      0           0  130.937933"
      ]
     },
     "execution_count": 12,
     "metadata": {},
     "output_type": "execute_result"
    }
   ],
   "source": [
    "import pandas as pd\n",
    "import numpy as np\n",
    "\n",
    "# Настройки для симуляции данных\n",
    "np.random.seed(40)  # Для воспроизводимости результатов\n",
    "num_days = 20\n",
    "min_users_per_day = 100\n",
    "max_users_per_day = 500\n",
    "date_range = pd.date_range(start='2024-02-01', periods=num_days, freq='D')\n",
    "\n",
    "# Генерация количества пользователей в день\n",
    "users_per_day = np.random.randint(min_users_per_day, max_users_per_day + 1, size=num_days)\n",
    "\n",
    "# Инициализация DataFrame\n",
    "data = pd.DataFrame({\n",
    "    \"date\": np.repeat(date_range, users_per_day),\n",
    "    \"group\": np.nan,  # Будет заполнено позже\n",
    "    \"conversion\": np.nan,  # Будет заполнено позже\n",
    "    \"LTV\": np.nan  # Будет заполнено позже\n",
    "})\n",
    "\n",
    "# Заполнение групп аб теста\n",
    "data[\"group\"] = np.random.choice([0, 1], size=len(data))\n",
    "\n",
    "# Заполнение конверсий с небольшим преимуществом для группы 1\n",
    "conversion_rates = {0: 0.2, 1: 0.22}  # Небольшое преимущество для группы 1\n",
    "data[\"conversion\"] = data[\"group\"].map(lambda g: np.random.choice([0, 1], p=[1-conversion_rates[g], conversion_rates[g]]))\n",
    "\n",
    "# Заполнение LTV с небольшим преимуществом для группы 1\n",
    "ltv_means = {0: 100, 1: 110}  # Средние значения LTV для каждой группы\n",
    "ltv_std_dev = 20  # Стандартное отклонение LTV\n",
    "data[\"LTV\"] = data[\"group\"].map(lambda g: np.maximum(0, np.random.normal(ltv_means[g], ltv_std_dev)))\n",
    "\n",
    "data.head()"
   ]
  },
  {
   "cell_type": "markdown",
   "id": "589d11b7",
   "metadata": {},
   "source": [
    "# Анализ и тесты\n",
    "Здесь ваша практика"
   ]
  },
  {
   "cell_type": "code",
   "execution_count": 65,
   "id": "31a8a883",
   "metadata": {},
   "outputs": [],
   "source": [
    "# импортируем библиотеки для проведения анализа результата эксперимента\n",
    "\n",
    "from scipy.stats import (\n",
    "    mannwhitneyu, # https://docs.scipy.org/doc/scipy/reference/generated/scipy.stats.mannwhitneyu.html#scipy.stats.mannwhitneyu\n",
    "    chi2_contingency, # https://docs.scipy.org/doc/scipy/reference/generated/scipy.stats.chi2_contingency.html#scipy.stats.chi2_contingency\n",
    "    ttest_ind # https://docs.scipy.org/doc/scipy/reference/generated/scipy.stats.ttest_ind.html#scipy.stats.ttest_ind\n",
    "    )"
   ]
  },
  {
   "cell_type": "code",
   "execution_count": 11,
   "id": "58d8d5a5",
   "metadata": {},
   "outputs": [
    {
     "data": {
      "image/png": "[encoded data removed]",
      "text/plain": [
       "<Figure size 640x480 with 1 Axes>"
      ]
     },
     "metadata": {},
     "output_type": "display_data"
    }
   ],
   "source": [
    "# посмотрев на распределение ргуппы конверсий в регистрацию,\n",
    "# можем сделать вывод, что у нас дискретные величины, к которым можно применить метод хи квадрата\n",
    "\n",
    "for group in data.group.unique():\n",
    "    data[data.group == group].conversion.hist(bins=4, alpha=.5)"
   ]
  },
  {
   "cell_type": "markdown",
   "id": "d2092d62",
   "metadata": {},
   "source": [
    "### Здесь необходимо рассчитать результатаы теста:"
   ]
  },
  {
   "cell_type": "code",
   "execution_count": 23,
   "id": "75b99ffa",
   "metadata": {},
   "outputs": [
    {
     "data": {
      "text/html": [
       "<div>\n",
       "<style scoped>\n",
       "    .dataframe tbody tr th:only-of-type {\n",
       "        vertical-align: middle;\n",
       "    }\n",
       "\n",
       "    .dataframe tbody tr th {\n",
       "        vertical-align: top;\n",
       "    }\n",
       "\n",
       "    .dataframe thead th {\n",
       "        text-align: right;\n",
       "    }\n",
       "</style>\n",
       "<table border=\"1\" class=\"dataframe\">\n",
       "  <thead>\n",
       "    <tr style=\"text-align: right;\">\n",
       "      <th>conversion</th>\n",
       "      <th>0</th>\n",
       "      <th>1</th>\n",
       "    </tr>\n",
       "    <tr>\n",
       "      <th>group</th>\n",
       "      <th></th>\n",
       "      <th></th>\n",
       "    </tr>\n",
       "  </thead>\n",
       "  <tbody>\n",
       "    <tr>\n",
       "      <th>0</th>\n",
       "      <td>2237</td>\n",
       "      <td>539</td>\n",
       "    </tr>\n",
       "    <tr>\n",
       "      <th>1</th>\n",
       "      <td>2305</td>\n",
       "      <td>618</td>\n",
       "    </tr>\n",
       "  </tbody>\n",
       "</table>\n",
       "</div>"
      ],
      "text/plain": [
       "conversion     0    1\n",
       "group                \n",
       "0           2237  539\n",
       "1           2305  618"
      ]
     },
     "metadata": {},
     "output_type": "display_data"
    },
    {
     "data": {
      "text/plain": [
       "(2.516600136235263,\n",
       " 0.1126532322826482,\n",
       " 1,\n",
       " array([[2212.42182839,  563.57817161],\n",
       "        [2329.57817161,  593.42182839]]))"
      ]
     },
     "execution_count": 23,
     "metadata": {},
     "output_type": "execute_result"
    }
   ],
   "source": [
    "# подготовим данные в виде сводной таблицы\n",
    "conversion_table = data.pivot_table(index='group', columns='conversion', aggfunc='size', fill_value=0)\n",
    "display(conversion_table)\n",
    "\n",
    "\n",
    "from scipy.stats import chi2_contingency\n",
    "\n",
    "# Данные о группах и конверсиях\n",
    "data_2 = [[2237, 539],  # group 1: conversion 0, conversion 1\n",
    "        [2305, 618]]  # group 2: conversion 0, conversion 1\n",
    "\n",
    "# хи-квадрат\n",
    "chi2, p, dof, expected = chi2_contingency(data_2)\n",
    "\n",
    "chi2, p, dof, expected\n",
    "\n",
    "# p-value = 0.112 > 0.05, это позволяет нам принять нулевую гипотизу\n",
    "# делаем вывод об отсутствие значимой разницý между вýборками."
   ]
  },
  {
   "cell_type": "code",
   "execution_count": 13,
   "id": "10112575",
   "metadata": {},
   "outputs": [
    {
     "data": {
      "text/html": [
       "<div>\n",
       "<style scoped>\n",
       "    .dataframe tbody tr th:only-of-type {\n",
       "        vertical-align: middle;\n",
       "    }\n",
       "\n",
       "    .dataframe tbody tr th {\n",
       "        vertical-align: top;\n",
       "    }\n",
       "\n",
       "    .dataframe thead tr th {\n",
       "        text-align: left;\n",
       "    }\n",
       "</style>\n",
       "<table border=\"1\" class=\"dataframe\">\n",
       "  <thead>\n",
       "    <tr>\n",
       "      <th></th>\n",
       "      <th>date</th>\n",
       "      <th>group</th>\n",
       "      <th>visit_to_reg</th>\n",
       "    </tr>\n",
       "    <tr>\n",
       "      <th></th>\n",
       "      <th></th>\n",
       "      <th></th>\n",
       "      <th></th>\n",
       "    </tr>\n",
       "  </thead>\n",
       "  <tbody>\n",
       "    <tr>\n",
       "      <th>0</th>\n",
       "      <td>2024-02-01</td>\n",
       "      <td>0</td>\n",
       "      <td>0.169231</td>\n",
       "    </tr>\n",
       "    <tr>\n",
       "      <th>1</th>\n",
       "      <td>2024-02-02</td>\n",
       "      <td>0</td>\n",
       "      <td>0.156863</td>\n",
       "    </tr>\n",
       "    <tr>\n",
       "      <th>2</th>\n",
       "      <td>2024-02-03</td>\n",
       "      <td>0</td>\n",
       "      <td>0.207547</td>\n",
       "    </tr>\n",
       "    <tr>\n",
       "      <th>3</th>\n",
       "      <td>2024-02-04</td>\n",
       "      <td>0</td>\n",
       "      <td>0.211679</td>\n",
       "    </tr>\n",
       "    <tr>\n",
       "      <th>4</th>\n",
       "      <td>2024-02-05</td>\n",
       "      <td>0</td>\n",
       "      <td>0.222222</td>\n",
       "    </tr>\n",
       "  </tbody>\n",
       "</table>\n",
       "</div>"
      ],
      "text/plain": [
       "        date group visit_to_reg\n",
       "                               \n",
       "0 2024-02-01     0     0.169231\n",
       "1 2024-02-02     0     0.156863\n",
       "2 2024-02-03     0     0.207547\n",
       "3 2024-02-04     0     0.211679\n",
       "4 2024-02-05     0     0.222222"
      ]
     },
     "metadata": {},
     "output_type": "display_data"
    },
    {
     "data": {
      "image/png": "[encoded data removed]",
      "text/plain": [
       "<Figure size 640x480 with 1 Axes>"
      ]
     },
     "metadata": {},
     "output_type": "display_data"
    }
   ],
   "source": [
    "# подготовим данные для U и T тестов, преобразовав дискретные значения колонки conversion в неприрывные\n",
    "\n",
    "groupped_data = data.groupby(['group', 'date']).agg({ # группируем данные по дате и группе в тесте\n",
    "    'conversion': ['count', 'sum'], # подсчитываем число наблюдений и исло конвесий в день\n",
    "}).reset_index() # удаляем индекс, что бы индексы group и date после группировки стали обратно колонками\n",
    "\n",
    "# теперь расчитываем конверсию из визита в регистрацию, разделив число регистраций в день на число визитов в день\n",
    "groupped_data['visit_to_reg'] = groupped_data['conversion']['sum'] / groupped_data['conversion']['count']\n",
    "\n",
    "# оставляем только нужные нам колонки\n",
    "groupped_data = groupped_data[['date', 'group', 'visit_to_reg']]\n",
    "display(groupped_data.head())\n",
    "\n",
    "for group in groupped_data.group.unique():\n",
    "    groupped_data[groupped_data.group == group].visit_to_reg.hist(bins=5, alpha=.5)"
   ]
  },
  {
   "cell_type": "code",
   "execution_count": 24,
   "id": "f60f2476",
   "metadata": {},
   "outputs": [
    {
     "data": {
      "image/png": "[encoded data removed]",
      "text/plain": [
       "<Figure size 640x480 with 1 Axes>"
      ]
     },
     "metadata": {},
     "output_type": "display_data"
    }
   ],
   "source": [
    "# Смотрим, как распределяются данные LTV\n",
    "\n",
    "for group in data.group.unique():\n",
    "    data[data.group == group].LTV.hist(bins=50, alpha=.5)"
   ]
  },
  {
   "cell_type": "code",
   "execution_count": 16,
   "id": "3026b7e3",
   "metadata": {},
   "outputs": [
    {
     "name": "stdout",
     "output_type": "stream",
     "text": [
      "shapiro_visit_to_reg:\n",
      "{0: ShapiroResult(statistic=0.9246988296508789, pvalue=0.12205146253108978), 1: ShapiroResult(statistic=0.9595555663108826, pvalue=0.5350086092948914)}\n",
      "\n",
      "shapiro_ltv:\n",
      "{0: ShapiroResult(statistic=0.9995558857917786, pvalue=0.8117049932479858), 1: ShapiroResult(statistic=0.9994468688964844, pvalue=0.579118549823761)}\n"
     ]
    }
   ],
   "source": [
    "# проверяем оба наших набора данных методом Шапиро-Уилка на нормальность распределения,\n",
    "# и как следствие возможность применения t-теста\n",
    "\n",
    "from scipy.stats import shapiro\n",
    "\n",
    "shapiro_visit_to_reg = {group: shapiro(groupped_data[groupped_data.group == group].visit_to_reg.values) for group in groupped_data.group.unique()}\n",
    "shapiro_ltv = {group: shapiro(data[data.group == group].LTV.values) for group in data.group.unique()}\n",
    "\n",
    "print('shapiro_visit_to_reg:')\n",
    "print(shapiro_visit_to_reg)\n",
    "print()\n",
    "print('shapiro_ltv:')\n",
    "print(shapiro_ltv)    "
   ]
  },
  {
   "cell_type": "markdown",
   "id": "cfa007f5",
   "metadata": {},
   "source": [
    "p-значение обоих распределений больше 0.05, что говорит о возможности применения t-теста для всех наших метрик."
   ]
  },
  {
   "cell_type": "markdown",
   "id": "9876deb4",
   "metadata": {},
   "source": [
    "### Здесь необходимо рассчитать результатаы теста для конверсий и LTV:"
   ]
  },
  {
   "cell_type": "code",
   "execution_count": 18,
   "id": "1d567552",
   "metadata": {},
   "outputs": [
    {
     "name": "stdout",
     "output_type": "stream",
     "text": [
      "\n",
      "D 0 = 400.29248330535813\n",
      "D 1 = 410.4081828598188\n"
     ]
    },
    {
     "data": {
      "text/plain": [
       "(-17.780323552729016, 7.088021970660139e-69)"
      ]
     },
     "execution_count": 18,
     "metadata": {},
     "output_type": "execute_result"
    }
   ],
   "source": [
    "from scipy import stats\n",
    "import numpy as np\n",
    "import pandas as pd\n",
    "\n",
    "group_c = data[(data['group'] == 0)]  \n",
    "\n",
    "ltv_c = group_c['LTV']. tolist ()\n",
    "\n",
    "print()\n",
    "\n",
    "group_d = data[(data['group'] == 1)]    \n",
    "ltv_d = group_d['LTV']. tolist ()\n",
    "\n",
    "print('D 0 =', np.var(ltv_c)) \n",
    "print('D 1 =', np.var(ltv_d))\n",
    "\n",
    "\n",
    "t_statistic_ltv, p_value_ltv = stats.ttest_ind(ltv_c, ltv_d)\n",
    "\n",
    "t_statistic_ltv, p_value_ltv"
   ]
  },
  {
   "cell_type": "markdown",
   "id": "9f37a75a",
   "metadata": {},
   "source": [
    "### Сравните результаты всех тестов и сделайте выводы:"
   ]
  },
  {
   "cell_type": "code",
   "execution_count": null,
   "id": "aa554ac2",
   "metadata": {},
   "outputs": [],
   "source": [
    "#Хи квадрат\n",
    "\n",
    "# p-value = 0.112 > 0.05, это позволяет нам принять нулевую гипотизу\n",
    "# делаем вывод об отсутствие значимой разницý между вýборками.\n",
    "\n",
    "\n",
    "\n",
    "#T-test\n",
    "\n",
    "#1\n",
    "# p_value = 0.11419 > 0.05 это занчит что можно принять нулевую гипотезу\n",
    "# делвем вывод о не значимой разнице между выборками\n",
    "\n",
    "#2\n",
    "# p_value = 7,088 > 0.05 это занчит что можно принять нулевую гипотезу\n",
    "# делвем вывод о не значимой разнице между выборками\n"
   ]
  }
 ],
 "metadata": {
  "kernelspec": {
   "display_name": "Python 3 (ipykernel)",
   "language": "python",
   "name": "python3"
  },
  "language_info": {
   "codemirror_mode": {
    "name": "ipython",
    "version": 3
   },
   "file_extension": ".py",
   "mimetype": "text/x-python",
   "name": "python",
   "nbconvert_exporter": "python",
   "pygments_lexer": "ipython3",
   "version": "3.11.5"
  }
 },
 "nbformat": 4,
 "nbformat_minor": 5
}
